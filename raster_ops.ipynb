{
 "cells": [
  {
   "cell_type": "code",
   "execution_count": null,
   "id": "03034712-024b-415c-89dd-884b3dc2157a",
   "metadata": {},
   "outputs": [],
   "source": [
    "# ArcGIS imports\n",
    "from arcgis.gis import GIS\n",
    "from arcgis.mapping import WebMap\n",
    "from arcgis.raster.analytics import copy_raster\n",
    "import arcgis.env as arcgisenvs\n",
    "\n",
    "# Pandas and numpy\n",
    "import pandas as pd\n",
    "import numpy as np\n",
    "\n",
    "# Plotting tools\n",
    "import matplotlib.pyplot as plt\n",
    "\n",
    "# Raster tools\n",
    "from osgeo import gdal\n",
    "\n",
    "# datetime for metadata\n",
    "from datetime import datetime"
   ]
  },
  {
   "cell_type": "markdown",
   "id": "483be7a7",
   "metadata": {},
   "source": [
    "# Inputs"
   ]
  },
  {
   "cell_type": "code",
   "execution_count": null,
   "id": "ff7ce029",
   "metadata": {},
   "outputs": [],
   "source": [
    "EPSG_3857_wkt = 'PROJCRS[\"WGS 84 / Pseudo-Mercator\", BASEGEOGCRS[\"WGS 84\", ENSEMBLE[\"World Geodetic System 1984 ensemble\", MEMBER[\"World Geodetic System 1984 (Transit)\"], MEMBER[\"World Geodetic System 1984 (G730)\"], MEMBER[\"World Geodetic System 1984 (G873)\"], MEMBER[\"World Geodetic System 1984 (G1150)\"], MEMBER[\"World Geodetic System 1984 (G1674)\"], MEMBER[\"World Geodetic System 1984 (G1762)\"], MEMBER[\"World Geodetic System 1984 (G2139)\"], ELLIPSOID[\"WGS 84\",6378137,298.257223563, LENGTHUNIT[\"metre\",1]], ENSEMBLEACCURACY[2.0]], PRIMEM[\"Greenwich\",0, ANGLEUNIT[\"degree\",0.0174532925199433]], ID[\"EPSG\",4326]], CONVERSION[\"Popular Visualisation Pseudo-Mercator\", METHOD[\"Popular Visualisation Pseudo Mercator\", ID[\"EPSG\",1024]], PARAMETER[\"Latitude of natural origin\",0, ANGLEUNIT[\"degree\",0.0174532925199433], ID[\"EPSG\",8801]], PARAMETER[\"Longitude of natural origin\",0, ANGLEUNIT[\"degree\",0.0174532925199433], ID[\"EPSG\",8802]], PARAMETER[\"False easting\",0, LENGTHUNIT[\"metre\",1], ID[\"EPSG\",8806]], PARAMETER[\"False northing\",0, LENGTHUNIT[\"metre\",1], ID[\"EPSG\",8807]]], CS[Cartesian,2], AXIS[\"easting (X)\",east, ORDER[1], LENGTHUNIT[\"metre\",1]], AXIS[\"northing (Y)\",north, ORDER[2], LENGTHUNIT[\"metre\",1]], USAGE[ SCOPE[\"Web mapping and visualisation.\"], AREA[\"World between 85.06°S and 85.06°N.\"], BBOX[-85.06,-180,85.06,180]], ID[\"EPSG\",3857]]'\n",
    "raster_location = {\n",
    "    \"top_left_x\": -13626617,\n",
    "    \"top_left_y\": 4549726,\n",
    "    \"crs_wkid\": 3857,\n",
    "    \"crs_wkt\": EPSG_3857_wkt\n",
    "}\n",
    "pixel_size = 10.307360350155632\n",
    "(pix_y, pix_x) = (100, 100)\n",
    "random_raster_std_dev = 1.8\n",
    "output_agol_folder_name = \"Raster_Testing\"\n",
    "random_raster_file = \"random_raster.tif\"\n",
    "arcgisenvs.verbose = True"
   ]
  },
  {
   "cell_type": "markdown",
   "id": "b91bcf70",
   "metadata": {},
   "source": [
    "# Generate Random Raster"
   ]
  },
  {
   "cell_type": "code",
   "execution_count": null,
   "id": "c7b5b08e",
   "metadata": {
    "scrolled": true
   },
   "outputs": [],
   "source": [
    "random_raster_df = pd.DataFrame(\n",
    "    random_raster_std_dev*np.random.randn(pix_x*pix_y),\n",
    "    columns=[\"pixvals\"],\n",
    "    dtype=\"float32\"\n",
    ")"
   ]
  },
  {
   "cell_type": "markdown",
   "id": "a4e701c6",
   "metadata": {},
   "source": [
    "# Visualize raster"
   ]
  },
  {
   "cell_type": "code",
   "execution_count": null,
   "id": "3c8945f7",
   "metadata": {},
   "outputs": [],
   "source": [
    "plt.imshow(random_raster_df.pixvals.to_numpy().reshape(pix_y, pix_x))\n",
    "plt.colorbar()"
   ]
  },
  {
   "cell_type": "markdown",
   "id": "92e3b4de",
   "metadata": {},
   "source": [
    "# Save raster file"
   ]
  },
  {
   "cell_type": "code",
   "execution_count": null,
   "id": "7d799dce",
   "metadata": {},
   "outputs": [],
   "source": [
    "# Create an empty GeoTIFF dataset\n",
    "driver = gdal.GetDriverByName(\"GTiff\")\n",
    "dst_ds = driver.Create(\n",
    "    random_raster_file,\n",
    "    xsize=pix_x,\n",
    "    ysize=pix_y,\n",
    "    bands=1,\n",
    "    eType=gdal.GDT_Float32,\n",
    ")\n",
    "\n",
    "# Set geotransform and spatial reference of the dataset\n",
    "dst_ds.SetGeoTransform(\n",
    "    [raster_location[\"top_left_x\"], pixel_size, 0, raster_location[\"top_left_y\"], 0, -pixel_size]\n",
    ")\n",
    "dst_ds.SetProjection(raster_location[\"crs_wkt\"])\n",
    "\n",
    "# Write raster pixels\n",
    "dst_ds.GetRasterBand(1).WriteArray(\n",
    "    random_raster_df.pixvals.to_numpy().reshape(pix_y, pix_x)\n",
    ")\n",
    "\n",
    "# Add metadata\n",
    "dst_ds.SetMetadata(\n",
    "    {\n",
    "        \"TIFFTAG_DOCUMENTNAME\": \"Random Raster\",\n",
    "        \"TIFFTAG_IMAGEDESCRIPTION\": \"Random Raster generated from a DataFrame using GDAL\",\n",
    "        \"TIFFTAG_DATETIME\": f\"{datetime.now().isoformat()}\",\n",
    "    }\n",
    ")\n",
    "\n",
    "# Close the dataset\n",
    "dst_ds = None"
   ]
  },
  {
   "cell_type": "markdown",
   "id": "18bb3e8e",
   "metadata": {
    "tags": []
   },
   "source": [
    "# Connect to AGOL"
   ]
  },
  {
   "cell_type": "code",
   "execution_count": null,
   "id": "88102443",
   "metadata": {
    "scrolled": true
   },
   "outputs": [],
   "source": [
    "gis = GIS(profile=\"agol_profile\")"
   ]
  },
  {
   "cell_type": "markdown",
   "id": "a60756a7",
   "metadata": {},
   "source": [
    "# Create AGOL folder for analysis results"
   ]
  },
  {
   "cell_type": "code",
   "execution_count": null,
   "id": "6a484200",
   "metadata": {},
   "outputs": [],
   "source": [
    "output_agol_folder = gis.content.create_folder(output_agol_folder_name)"
   ]
  },
  {
   "cell_type": "markdown",
   "id": "fdeca9bd",
   "metadata": {},
   "source": [
    "# Publish raster to AGOL"
   ]
  },
  {
   "cell_type": "code",
   "execution_count": null,
   "id": "a13a77db",
   "metadata": {},
   "outputs": [],
   "source": [
    "random_raster_item = copy_raster(\n",
    "        input_raster=random_raster_file,\n",
    "        output_name=\"Random Raster\",\n",
    "        raster_type_name=\"Raster Dataset\",\n",
    "        context={\"upload_properties\": {\"displayProgress\": True}},\n",
    "        folder=output_agol_folder,\n",
    "        tiles_only=True,\n",
    "    )"
   ]
  },
  {
   "cell_type": "markdown",
   "id": "345eb50b",
   "metadata": {},
   "source": [
    "# Publish maps with raster added as a layer"
   ]
  },
  {
   "cell_type": "markdown",
   "id": "6d9beee8",
   "metadata": {},
   "source": [
    "## Method 1\n",
    "* Create a local WebMap\n",
    "* Add raster item from AGOL to local WebMap\n",
    "* Save the WebMap to AGOL"
   ]
  },
  {
   "cell_type": "code",
   "execution_count": null,
   "id": "54a7dbb9",
   "metadata": {},
   "outputs": [],
   "source": [
    "wm1 = WebMap()\n",
    "wm1.basemap = \"gray-vector\"\n",
    "wm1.add_layer(random_raster_item, options={\"title\":\"Random Raster\"})\n",
    "wm1"
   ]
  },
  {
   "cell_type": "code",
   "execution_count": null,
   "id": "d6bd414d",
   "metadata": {},
   "outputs": [],
   "source": [
    "wm1_item = wm1.save(\n",
    "    {\n",
    "    \"title\": \"Raster Test WebMap Method 1\",\n",
    "    \"snippet\": \"Adding a raster item to a WebMap from a Jupyter Notebook\",\n",
    "    \"description\": \"Started with a local WebMap (WebMap()), added the published raster item as a layer to the local WebMap (map.add_layer()), then used the WebMap.save() method to publish the local WebMap to AGOL\",\n",
    "    \"tags\": [\"Automation\"]\n",
    "    },\n",
    "    folder=output_agol_folder_name\n",
    ")\n",
    "\n",
    "wm1_item_wm = WebMap(wm1_item)\n",
    "wm1_item_wm"
   ]
  },
  {
   "cell_type": "markdown",
   "id": "064a39fc",
   "metadata": {},
   "source": [
    "## Method 2\n",
    "  * Create a local map widget\n",
    "  * Add raster item from AGOL to map widget\n",
    "  * Save the map widget as a WebMap to AGOL"
   ]
  },
  {
   "cell_type": "code",
   "execution_count": null,
   "id": "1f924e38",
   "metadata": {},
   "outputs": [],
   "source": [
    "map1 = gis.map()\n",
    "map1.basemap = \"gray-vector\"\n",
    "map1.add_layer(random_raster_item)\n",
    "map1.zoom_to_layer(random_raster_item)\n",
    "map1"
   ]
  },
  {
   "cell_type": "code",
   "execution_count": null,
   "id": "cb7da58f",
   "metadata": {},
   "outputs": [],
   "source": [
    "map1_wm_item = map1.save(\n",
    "    {\n",
    "    \"title\": \"Raster Test WebMap Method 2\",\n",
    "    \"snippet\": \"Adding a raster item to a WebMap from a Jupyter Notebook\",\n",
    "    \"description\": \"Started with a local map widget (gis.map()), added the published raster item as a layer to the local map widget (map.add_layer()), then used the map.save() method to publish the local map widget as a WebMap\",\n",
    "    \"tags\": [\"Automation\"]\n",
    "    },\n",
    "    folder=output_agol_folder_name\n",
    ")\n",
    "\n",
    "map1_wm = WebMap(map1_wm_item)\n",
    "map1_wm"
   ]
  },
  {
   "cell_type": "code",
   "execution_count": null,
   "id": "09e367d2",
   "metadata": {},
   "outputs": [],
   "source": []
  }
 ],
 "metadata": {
  "kernelspec": {
   "display_name": "Python 3 (ipykernel)",
   "language": "python",
   "name": "python3"
  },
  "language_info": {
   "codemirror_mode": {
    "name": "ipython",
    "version": 3
   },
   "file_extension": ".py",
   "mimetype": "text/x-python",
   "name": "python",
   "nbconvert_exporter": "python",
   "pygments_lexer": "ipython3",
   "version": "3.9.16"
  }
 },
 "nbformat": 4,
 "nbformat_minor": 5
}
